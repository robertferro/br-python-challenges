{
  "nbformat": 4,
  "nbformat_minor": 0,
  "metadata": {
    "colab": {
      "name": "Desafio 7.ipynb",
      "provenance": [],
      "include_colab_link": true
    },
    "kernelspec": {
      "name": "python3",
      "display_name": "Python 3"
    }
  },
  "cells": [
    {
      "cell_type": "markdown",
      "metadata": {
        "id": "view-in-github",
        "colab_type": "text"
      },
      "source": [
        "<a href=\"https://colab.research.google.com/github/robertferro/br-python-challenges/blob/master/Desafio_07.ipynb\" target=\"_parent\"><img src=\"https://colab.research.google.com/assets/colab-badge.svg\" alt=\"Open In Colab\"/></a>"
      ]
    },
    {
      "cell_type": "markdown",
      "metadata": {
        "id": "gQbaWOWcW1g_"
      },
      "source": [
        "# Desafio 7\n",
        "Um professor de universidade tem uma turma com os seguintes números de telefones:"
      ]
    },
    {
      "cell_type": "code",
      "metadata": {
        "id": "T68FjcUmWear"
      },
      "source": [
        "telefones_alunos = ['(873) 810-8267', '(633) 244-7325', '(300) 303-5462', \n",
        "                    '(938) 300-8890', '(429) 264-7427', '(737) 805-2326', \n",
        "                    '(768) 956-8497', '(941) 225-3869', '(203) 606-9463', \n",
        "                    '(294) 430-7720', '(896) 781-5087', '(397) 845-8267', \n",
        "                    '(788) 717-6858', '(419) 734-4188', '(682) 595-3278', \n",
        "                    '(835) 955-1498', '(296) 415-9944', '(897) 932-2512', \n",
        "                    '(263) 415-3893', '(822) 640-8496', '(640) 427-2597', \n",
        "                    '(856) 338-7094', '(807) 554-4076', '(641) 367-5279', \n",
        "                    '(828) 866-0696', '(727) 376-5749', '(921) 948-2244', \n",
        "                    '(964) 710-9625', '(596) 685-1242', '(403) 343-7705', \n",
        "                    '(227) 389-3685', '(264) 372-7298', '(797) 649-3653', \n",
        "                    '(374) 361-3844', '(618) 490-4228', '(987) 803-5550', \n",
        "                    '(228) 976-9699', '(757) 450-9985', '(491) 666-5367',\n",
        "                    ]"
      ],
      "execution_count": 1,
      "outputs": []
    },
    {
      "cell_type": "markdown",
      "metadata": {
        "id": "ryYrStScXgZ3"
      },
      "source": [
        "Ele criou um grupo do whatapp no entanto somente os seguintes números entraram:"
      ]
    },
    {
      "cell_type": "code",
      "metadata": {
        "id": "0Hxk13ciXZ3h"
      },
      "source": [
        "entraram_no_grupo = ['(596) 685-1242', '(727) 376-5749', '(987) 803-5550', \n",
        "                     '(633) 244-7325', '(828) 866-0696', '(263) 415-3893', \n",
        "                     '(203) 606-9463', '(296) 415-9944', '(419) 734-4188', \n",
        "                     '(618) 490-4228', '(682) 595-3278', '(938) 300-8890', \n",
        "                     '(264) 372-7298', '(768) 956-8497', '(737) 805-2326', \n",
        "                     '(788) 717-6858', '(228) 976-9699', '(896) 781-5087',\n",
        "                     '(374) 361-3844', '(921) 948-2244', '(807) 554-4076', \n",
        "                     '(822) 640-8496', '(227) 389-3685', '(429) 264-7427', \n",
        "                     '(397) 845-8267']"
      ],
      "execution_count": 2,
      "outputs": []
    },
    {
      "cell_type": "markdown",
      "metadata": {
        "id": "-inLXlaxoWnC"
      },
      "source": [
        "Você seria capaz de criar uma lista dos alunos que ainda não entraram no grupo para que sejam contatados individualmente?"
      ]
    },
    {
      "cell_type": "code",
      "metadata": {
        "id": "E0JUcAGUWElL"
      },
      "source": [
        "a = set(telefones_alunos)\n",
        "b = set(entraram_no_grupo)\n",
        "\n",
        "nao_entraram_no_grupo = []\n",
        "\n",
        "def intersecao( a, b):\n",
        "    for item in a :\n",
        "      if item not in b :\n",
        "        nao_entraram_no_grupo.append(item)\n",
        "    print(nao_entraram_no_grupo)  "
      ],
      "execution_count": 20,
      "outputs": []
    },
    {
      "cell_type": "code",
      "metadata": {
        "id": "4sjp35DDWR6d",
        "outputId": "21a14e2c-e0f1-4be1-d846-3f6776509f67",
        "colab": {
          "base_uri": "https://localhost:8080/",
          "height": 54
        }
      },
      "source": [
        "intersecao(a , b)"
      ],
      "execution_count": 33,
      "outputs": [
        {
          "output_type": "stream",
          "text": [
            "['(757) 450-9985', '(640) 427-2597', '(856) 338-7094', '(873) 810-8267', '(797) 649-3653', '(491) 666-5367', '(835) 955-1498', '(941) 225-3869', '(294) 430-7720', '(641) 367-5279', '(300) 303-5462', '(403) 343-7705', '(897) 932-2512', '(964) 710-9625', '(757) 450-9985', '(640) 427-2597', '(856) 338-7094', '(873) 810-8267', '(797) 649-3653', '(491) 666-5367', '(835) 955-1498', '(941) 225-3869', '(294) 430-7720', '(641) 367-5279', '(300) 303-5462', '(403) 343-7705', '(897) 932-2512', '(964) 710-9625', '(757) 450-9985', '(640) 427-2597', '(856) 338-7094', '(873) 810-8267', '(797) 649-3653', '(491) 666-5367', '(835) 955-1498', '(941) 225-3869', '(294) 430-7720', '(641) 367-5279', '(300) 303-5462', '(403) 343-7705', '(897) 932-2512', '(964) 710-9625', '(757) 450-9985', '(640) 427-2597', '(856) 338-7094', '(873) 810-8267', '(797) 649-3653', '(491) 666-5367', '(835) 955-1498', '(941) 225-3869', '(294) 430-7720', '(641) 367-5279', '(300) 303-5462', '(403) 343-7705', '(897) 932-2512', '(964) 710-9625', '(757) 450-9985', '(640) 427-2597', '(856) 338-7094', '(873) 810-8267', '(797) 649-3653', '(491) 666-5367', '(835) 955-1498', '(941) 225-3869', '(294) 430-7720', '(641) 367-5279', '(300) 303-5462', '(403) 343-7705', '(897) 932-2512', '(964) 710-9625']\n"
          ],
          "name": "stdout"
        }
      ]
    },
    {
      "cell_type": "code",
      "metadata": {
        "id": "xxmaEHOXVbD8",
        "outputId": "dee113b4-4954-4c5b-f3e5-9e837010b580",
        "colab": {
          "base_uri": "https://localhost:8080/",
          "height": 34
        }
      },
      "source": [
        "len(a)"
      ],
      "execution_count": 35,
      "outputs": [
        {
          "output_type": "execute_result",
          "data": {
            "text/plain": [
              "39"
            ]
          },
          "metadata": {
            "tags": []
          },
          "execution_count": 35
        }
      ]
    },
    {
      "cell_type": "code",
      "metadata": {
        "id": "XFVTENR3V4jW",
        "outputId": "c77a41c6-5281-4ea8-e44d-727a34ce60ab",
        "colab": {
          "base_uri": "https://localhost:8080/",
          "height": 34
        }
      },
      "source": [
        "len(b)"
      ],
      "execution_count": 17,
      "outputs": [
        {
          "output_type": "execute_result",
          "data": {
            "text/plain": [
              "25"
            ]
          },
          "metadata": {
            "tags": []
          },
          "execution_count": 17
        }
      ]
    },
    {
      "cell_type": "code",
      "metadata": {
        "id": "fv3ZMRWsV5mI",
        "outputId": "1b38fca8-db0f-4741-c2c0-4a72e39aeac9",
        "colab": {
          "base_uri": "https://localhost:8080/",
          "height": 34
        }
      },
      "source": [
        "len(nao_entraram_no_grupo)"
      ],
      "execution_count": 18,
      "outputs": [
        {
          "output_type": "execute_result",
          "data": {
            "text/plain": [
              "14"
            ]
          },
          "metadata": {
            "tags": []
          },
          "execution_count": 18
        }
      ]
    },
    {
      "cell_type": "code",
      "metadata": {
        "id": "T-8OStTtV7Im"
      },
      "source": [
        ""
      ],
      "execution_count": null,
      "outputs": []
    }
  ]
}