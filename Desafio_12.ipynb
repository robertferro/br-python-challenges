{
  "nbformat": 4,
  "nbformat_minor": 0,
  "metadata": {
    "anaconda-cloud": {},
    "kernelspec": {
      "display_name": "Python 3",
      "language": "python",
      "name": "python3"
    },
    "language_info": {
      "codemirror_mode": {
        "name": "ipython",
        "version": 3
      },
      "file_extension": ".py",
      "mimetype": "text/x-python",
      "name": "python",
      "nbconvert_exporter": "python",
      "pygments_lexer": "ipython3",
      "version": "3.6.5"
    },
    "colab": {
      "name": "Desafio 12.ipynb",
      "provenance": [],
      "include_colab_link": true
    }
  },
  "cells": [
    {
      "cell_type": "markdown",
      "metadata": {
        "id": "view-in-github",
        "colab_type": "text"
      },
      "source": [
        "<a href=\"https://colab.research.google.com/github/robertferro/br-python-challenges/blob/master/Desafio_12.ipynb\" target=\"_parent\"><img src=\"https://colab.research.google.com/assets/colab-badge.svg\" alt=\"Open In Colab\"/></a>"
      ]
    },
    {
      "cell_type": "markdown",
      "metadata": {
        "id": "AYHY2YXQf6J2"
      },
      "source": [
        "### Desafio 12\n",
        "\n",
        "Escreva uma função em Python para verificar a validade de uma senha.\n",
        "\n",
        "Validação:\n",
        "\n",
        "* Pelo menos 1 letra entre [a-z] e 1 letra entre [A-Z].\n",
        "* Pelo menos 1 número entre [0-9].\n",
        "* Pelo menos 1 caractere de [$ # @].\n",
        "* Comprimento mínimo de 6 caracteres.\n",
        "* Comprimento máximo de 16 caracteres.\n",
        "\n",
        "Entradas: \"12345678\", \"J3sus0\", \"#Te5t300\", \"J*90j12374\", \"Michheeul\", \"Monk3y6\"\n",
        "\n",
        "A saída deve ser a senha e um texto indicando se a senha é válida ou inválida:\n",
        "\n",
        "```\n",
        "\"1234\" - Senha inválida\n",
        "\"Qw#1234\" - Senha válida\n",
        "```"
      ]
    },
    {
      "cell_type": "code",
      "metadata": {
        "id": "UGgtGYGGf6J3"
      },
      "source": [
        "# Seu código"
      ],
      "execution_count": null,
      "outputs": []
    },
    {
      "cell_type": "code",
      "metadata": {
        "id": "n8F01NzD9uHm"
      },
      "source": [
        "def validacao_de_senha(senha):\n",
        "  for item in senha :\n",
        "    if item.isalnum() == False :\n",
        "      if  (len(item) <= 16 and len(item) >= 6) :\n",
        "        print('{} - Senha é válida '.format(item))\n",
        "      else:\n",
        "        print('{} - Senha inválida'.format(item))\n",
        "    else :\n",
        "        print('{} - Senha inválida'.format(item))\n"
      ],
      "execution_count": 82,
      "outputs": []
    },
    {
      "cell_type": "code",
      "metadata": {
        "id": "UF7yG8njLuvM"
      },
      "source": [
        "senha = [\"12345678910111212131\", \"J3sukkkkkkkkkkkkkktatatatas0\", \"#t300\", \"J*90j12374\", \"Michheeul\", \"Monk3y6\"]"
      ],
      "execution_count": 83,
      "outputs": []
    },
    {
      "cell_type": "code",
      "metadata": {
        "id": "w282z6GJL2j7",
        "outputId": "f4922d64-cea0-4306-a019-1cd4ee75214a",
        "colab": {
          "base_uri": "https://localhost:8080/",
          "height": 119
        }
      },
      "source": [
        "validacao_de_senha(senha)"
      ],
      "execution_count": 84,
      "outputs": [
        {
          "output_type": "stream",
          "text": [
            "12345678910111212131 - Senha inválida\n",
            "J3sukkkkkkkkkkkkkktatatatas0 - Senha inválida\n",
            "#t300 - Senha inválida\n",
            "J*90j12374 - Senha é válida \n",
            "Michheeul - Senha inválida\n",
            "Monk3y6 - Senha inválida\n"
          ],
          "name": "stdout"
        }
      ]
    }
  ]
}