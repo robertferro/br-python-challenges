{
  "nbformat": 4,
  "nbformat_minor": 0,
  "metadata": {
    "anaconda-cloud": {},
    "kernelspec": {
      "display_name": "Python 3",
      "language": "python",
      "name": "python3"
    },
    "language_info": {
      "codemirror_mode": {
        "name": "ipython",
        "version": 3
      },
      "file_extension": ".py",
      "mimetype": "text/x-python",
      "name": "python",
      "nbconvert_exporter": "python",
      "pygments_lexer": "ipython3",
      "version": "3.6.5"
    },
    "colab": {
      "name": "Desafio 8.ipynb",
      "provenance": [],
      "include_colab_link": true
    }
  },
  "cells": [
    {
      "cell_type": "markdown",
      "metadata": {
        "id": "view-in-github",
        "colab_type": "text"
      },
      "source": [
        "<a href=\"https://colab.research.google.com/github/robertferro/br-python-challenges/blob/master/Desafio_08.ipynb\" target=\"_parent\"><img src=\"https://colab.research.google.com/assets/colab-badge.svg\" alt=\"Open In Colab\"/></a>"
      ]
    },
    {
      "cell_type": "markdown",
      "metadata": {
        "id": "o3tkeMDNf6Jo"
      },
      "source": [
        "### Desafio 8\n",
        "\n",
        "Escreva um script Python para encontrar as 10 palavras mais longas em um arquivo.\n",
        "\n",
        "O arquivo TXT está localizado na mesma pasta do projeto (texto.txt)."
      ]
    },
    {
      "cell_type": "code",
      "metadata": {
        "id": "EknxjSG0f6Jo",
        "outputId": "1478688d-968c-42d2-e91d-e35303065d3b",
        "colab": {
          "base_uri": "https://localhost:8080/",
          "height": 34
        }
      },
      "source": [
        "l = [12,2,3,4,5,6,7,8,9,0,13,22,35,44,37,21,43,49,54]\n",
        "l.sort()\n",
        "l.reverse()\n",
        "l"
      ],
      "execution_count": null,
      "outputs": [
        {
          "output_type": "execute_result",
          "data": {
            "text/plain": [
              "[54, 49, 44, 43, 37, 35, 22, 21, 13, 12, 9, 8, 7, 6, 5, 4, 3, 2, 0]"
            ]
          },
          "metadata": {
            "tags": []
          },
          "execution_count": 11
        }
      ]
    },
    {
      "cell_type": "code",
      "metadata": {
        "id": "N0mMDX1Ehl7N"
      },
      "source": [
        "texto = open('texto.txt', 'r')\n",
        "lista = []"
      ],
      "execution_count": null,
      "outputs": []
    },
    {
      "cell_type": "code",
      "metadata": {
        "id": "equjGo-fkF8f",
        "outputId": "18520be1-c0ca-482e-e46b-c6a05e60c96a",
        "colab": {
          "base_uri": "https://localhost:8080/",
          "height": 34
        }
      },
      "source": [
        "texto = open('texto.txt', 'r')\n",
        "def contador(n):\n",
        "    return len(n)\n",
        "    res = []\n",
        "    for lines in file:\n",
        "        split_list = lines.split(\" \")\n",
        "        for split in split_list:\n",
        "            if split == '' or split == '\\n':\n",
        "                pass\n",
        "            else:\n",
        "                res.append(split)\n",
        "\n",
        "palavras = sorted(res,key=lambda x: len(x), reverse=True)\n",
        "palavras = palavras[:10]\n",
        "print(palavras)"
      ],
      "execution_count": null,
      "outputs": [
        {
          "output_type": "stream",
          "text": [
            "['general-purpose,', 'object-oriented,', 'comprehensive', 'intermediate)', 'interpreted,', 'language.Its', 'readability,', 'high-level,', 'programming', 'programmers']\n"
          ],
          "name": "stdout"
        }
      ]
    },
    {
      "cell_type": "code",
      "metadata": {
        "id": "WFqzctAQoSh0"
      },
      "source": [
        ""
      ],
      "execution_count": null,
      "outputs": []
    }
  ]
}